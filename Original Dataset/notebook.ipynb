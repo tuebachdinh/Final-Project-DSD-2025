{
 "cells": [
  {
   "cell_type": "code",
   "execution_count": null,
   "id": "402f43e6",
   "metadata": {},
   "outputs": [],
   "source": [
    "import pandas as pd\n",
    "import numpy as np\n",
    "import matplotlib.pyplot as plt\n",
    "import seaborn as sns\n",
    "\n",
    "from sklearn.model_selection import train_test_split, cross_val_score\n",
    "from sklearn.ensemble import RandomForestRegressor\n",
    "from sklearn.metrics import mean_absolute_error, r2_score\n",
    "from sklearn.decomposition import PCA"
   ]
  },
  {
   "cell_type": "code",
   "execution_count": null,
   "id": "aa774adc",
   "metadata": {},
   "outputs": [],
   "source": [
    "# --- 1. LOAD DATA ---\n",
    "df = pd.read_csv('radial_features_labels.csv')\n",
    "print(df.head())"
   ]
  },
  {
   "cell_type": "code",
   "execution_count": null,
   "id": "50b93c0a",
   "metadata": {},
   "outputs": [],
   "source": [
    "# --- 2. VISUALIZATION: FEATURE DISTRIBUTIONS ---\n",
    "plt.figure(figsize=(10,6))\n",
    "for i, col in enumerate(df.columns[:-1]):\n",
    "    plt.subplot(2,3,i+1)\n",
    "    sns.histplot(df[col], kde=True)\n",
    "    plt.title(f'Distribution: {col}')\n",
    "plt.tight_layout()\n",
    "plt.show()"
   ]
  },
  {
   "cell_type": "code",
   "execution_count": null,
   "id": "f19b0858",
   "metadata": {},
   "outputs": [],
   "source": [
    "# --- 3. PAIRPLOT: FEATURE RELATIONSHIPS ---\n",
    "sns.pairplot(df, diag_kind='kde')\n",
    "plt.suptitle('Pairplot of Features and cfPWV', y=1.02)\n",
    "plt.show()\n"
   ]
  },
  {
   "cell_type": "code",
   "execution_count": null,
   "id": "b3a52a5f",
   "metadata": {},
   "outputs": [],
   "source": [
    "# --- 4. HEATMAP: FEATURE CORRELATIONS ---\n",
    "plt.figure(figsize=(8,6))\n",
    "corr = df.corr()\n",
    "sns.heatmap(corr, annot=True, fmt=\".2f\", cmap='coolwarm')\n",
    "plt.title('Correlation Matrix')\n",
    "plt.show()"
   ]
  },
  {
   "cell_type": "code",
   "execution_count": null,
   "id": "eb331f25",
   "metadata": {},
   "outputs": [],
   "source": [
    "# --- 5. ML WORKFLOW ---\n",
    "\n",
    "# Features and labels\n",
    "X = df.drop('cfPWV', axis=1)\n",
    "y = df['cfPWV']\n",
    "\n",
    "# Train/Test split\n",
    "X_train, X_test, y_train, y_test = train_test_split(\n",
    "    X, y, test_size=0.2, random_state=42\n",
    ")\n",
    "\n",
    "# Random Forest Regressor\n",
    "model = RandomForestRegressor(n_estimators=100, random_state=42)\n",
    "model.fit(X_train, y_train)\n",
    "\n",
    "# Predictions\n",
    "y_pred = model.predict(X_test)\n",
    "\n",
    "print(f'R2 score: {r2_score(y_test, y_pred):.3f}')\n",
    "print(f'Mean Absolute Error: {mean_absolute_error(y_test, y_pred):.3f}')"
   ]
  },
  {
   "cell_type": "code",
   "execution_count": null,
   "id": "97e1e2af",
   "metadata": {},
   "outputs": [],
   "source": [
    "# --- 6. FEATURE IMPORTANCE ---\n",
    "plt.figure(figsize=(8,4))\n",
    "feat_imp = pd.Series(model.feature_importances_, index=X.columns)\n",
    "feat_imp.sort_values().plot(kind='barh')\n",
    "plt.title('Random Forest Feature Importances')\n",
    "plt.xlabel('Importance')\n",
    "plt.tight_layout()\n",
    "plt.show()"
   ]
  },
  {
   "cell_type": "code",
   "execution_count": null,
   "id": "0e02d39d",
   "metadata": {},
   "outputs": [],
   "source": [
    "# --- 7. PREDICTED VS ACTUAL PLOT ---\n",
    "plt.figure(figsize=(6,6))\n",
    "plt.scatter(y_test, y_pred, alpha=0.5)\n",
    "plt.plot([y.min(), y.max()], [y.min(), y.max()], 'r--', lw=2)\n",
    "plt.xlabel('Actual cfPWV')\n",
    "plt.ylabel('Predicted cfPWV')\n",
    "plt.title('Predicted vs Actual cfPWV')\n",
    "plt.tight_layout()\n",
    "plt.show()"
   ]
  },
  {
   "cell_type": "code",
   "execution_count": null,
   "id": "96c8a362",
   "metadata": {},
   "outputs": [],
   "source": [
    "# --- 8. PCA VISUALIZATION (OPTIONAL) ---\n",
    "# If you have waveforms for each subject (e.g., exported from MATLAB)\n",
    "# Assume you have waveform_data.csv: rows=subjects, cols=time points\n",
    "\n",
    "try:\n",
    "    wf = pd.read_csv('waveform_data.csv')  # Not required if you only use features\n",
    "    pca = PCA(n_components=2)\n",
    "    wf_pca = pca.fit_transform(wf)\n",
    "    plt.figure(figsize=(8,6))\n",
    "    plt.scatter(wf_pca[:,0], wf_pca[:,1], c=df['cfPWV'], cmap='plasma', alpha=0.7)\n",
    "    plt.colorbar(label='cfPWV')\n",
    "    plt.xlabel('PC1'); plt.ylabel('PC2')\n",
    "    plt.title('PCA of Radial Waveforms Colored by cfPWV')\n",
    "    plt.tight_layout()\n",
    "    plt.show()\n",
    "except Exception as e:\n",
    "    print(\"Waveform PCA skipped (export waveform_data.csv if you want this plot)\")"
   ]
  },
  {
   "cell_type": "code",
   "execution_count": null,
   "id": "3befd7d2",
   "metadata": {},
   "outputs": [],
   "source": [
    "# --- 9. ADVANCED: CROSS-VALIDATION SCORE ---\n",
    "cv_scores = cross_val_score(model, X, y, cv=5, scoring='neg_mean_absolute_error')\n",
    "print(f\"Cross-validated MAE: {np.mean(-cv_scores):.3f} ± {np.std(cv_scores):.3f}\")\n",
    "\n",
    "# --- 10. OPTIONAL: PARTIAL DEPENDENCE PLOTS (Requires sklearn>=0.24) ---\n",
    "try:\n",
    "    from sklearn.inspection import PartialDependenceDisplay\n",
    "    fig, ax = plt.subplots(figsize=(12, 6))\n",
    "    PartialDependenceDisplay.from_estimator(\n",
    "        model, X, features=range(X.shape[1]), feature_names=X.columns, ax=ax\n",
    "    )\n",
    "    plt.tight_layout()\n",
    "    plt.show()\n",
    "except ImportError:\n",
    "    print(\"PartialDependenceDisplay not available in your sklearn version.\")\n"
   ]
  }
 ],
 "metadata": {
  "kernelspec": {
   "display_name": "base",
   "language": "python",
   "name": "python3"
  },
  "language_info": {
   "name": "python",
   "version": "3.11.5"
  }
 },
 "nbformat": 4,
 "nbformat_minor": 5
}
